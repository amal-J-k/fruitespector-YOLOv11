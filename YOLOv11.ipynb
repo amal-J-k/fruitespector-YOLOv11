{
 "cells": [
  {
   "cell_type": "code",
   "execution_count": 3,
   "id": "18b87ba9-421c-4fde-917a-7f653a9325e5",
   "metadata": {},
   "outputs": [],
   "source": [
    "from ultralytics import YOLO\n",
    "import torch"
   ]
  },
  {
   "cell_type": "code",
   "execution_count": 4,
   "id": "204084f8-8adf-4733-8c00-561d62564721",
   "metadata": {},
   "outputs": [],
   "source": [
    "model = YOLO(\"yolo11n.pt\")"
   ]
  },
  {
   "cell_type": "code",
   "execution_count": null,
   "id": "d286f1d2-3ba4-4eda-a97d-477b3514c386",
   "metadata": {},
   "outputs": [],
   "source": [
    "# Train the model\n",
    "train_results = model.train(\n",
    "    data=\"/home/unix/Downloads/Apples_Good_or_NoGood.v1-apple_datasets_20241026.yolov11/data.yaml\",  # path to dataset YAML\n",
    "    epochs=10,  # number of training epochs\n",
    "    imgsz=640,  # training image size\n",
    "    device=\"cpu\",  # device to run on, i.e. device=0 or device=0,1,2,3 or device=cpu\n",
    ")"
   ]
  },
  {
   "cell_type": "code",
   "execution_count": null,
   "id": "e696b1d5-e65d-43aa-9aeb-55e6618a85a0",
   "metadata": {},
   "outputs": [],
   "source": [
    "metrics = model.val()\n",
    "\n",
    "# Perform object detection on an image\n",
    "results = model(\"/home/unix/Downloads/Apple/badApple/RottenApple (1).jpg\")\n",
    "results[0].show()\n",
    "\n",
    "# Export the model to ONNX format\n",
    "path = model.export(format=\"onnx\")  # return path to exported model"
   ]
  },
  {
   "cell_type": "code",
   "execution_count": null,
   "id": "ee14f739-5b60-481c-af7a-e94f31680bba",
   "metadata": {},
   "outputs": [],
   "source": []
  }
 ],
 "metadata": {
  "kernelspec": {
   "display_name": "Python 3 (ipykernel)",
   "language": "python",
   "name": "python3"
  },
  "language_info": {
   "codemirror_mode": {
    "name": "ipython",
    "version": 3
   },
   "file_extension": ".py",
   "mimetype": "text/x-python",
   "name": "python",
   "nbconvert_exporter": "python",
   "pygments_lexer": "ipython3",
   "version": "3.12.7"
  }
 },
 "nbformat": 4,
 "nbformat_minor": 5
}
